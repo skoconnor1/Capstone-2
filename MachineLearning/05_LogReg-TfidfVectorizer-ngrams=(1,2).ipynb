{
 "cells": [
  {
   "cell_type": "markdown",
   "metadata": {},
   "source": [
    "# Logistic Regression with Tfidf Vectorization & ngrams_range = (1,2)"
   ]
  },
  {
   "cell_type": "code",
   "execution_count": 1,
   "metadata": {},
   "outputs": [],
   "source": [
    "import pyspark\n",
    "from pyspark.sql import SparkSession\n",
    "from pyspark.sql.functions import udf\n",
    "from pyspark.sql.functions import col, split\n",
    "\n",
    "import matplotlib.pyplot as plt\n",
    "import numpy as np\n",
    "import pandas as pd\n",
    "import seaborn as sns\n",
    "\n",
    "import json\n",
    "\n",
    "import nltk\n",
    "from nltk.tokenize import word_tokenize\n",
    "from nltk.tokenize import wordpunct_tokenize\n",
    "from nltk.corpus import stopwords\n",
    "\n",
    "\n",
    "from sklearn.feature_extraction.text import CountVectorizer\n",
    "from sklearn.feature_extraction.text import TfidfVectorizer\n",
    "\n",
    "from sklearn.linear_model import LogisticRegression\n",
    "from sklearn.model_selection import GridSearchCV\n",
    "from sklearn.model_selection import train_test_split\n",
    "from sklearn.metrics import accuracy_score\n",
    "from sklearn.metrics import classification_report\n",
    "from sklearn.metrics import confusion_matrix\n",
    "from sklearn.metrics import log_loss\n",
    "from sklearn.metrics import roc_curve\n",
    "from sklearn.metrics import auc\n",
    "\n",
    "import pickle"
   ]
  },
  {
   "cell_type": "code",
   "execution_count": 2,
   "metadata": {},
   "outputs": [],
   "source": [
    " def report(fitted):   \n",
    "    ypred = fitted.predict(Xtest)\n",
    "\n",
    "    print(\"[Training Classification Report:]\")\n",
    "    print(classification_report(ytrain, fitted.predict(Xtrain)))\n",
    "    print('Training Accuracy: ',accuracy_score(fitted.predict(Xtrain), ytrain))\n",
    "    print('')\n",
    "    print(\"[Test Classification Report:]\")\n",
    "    print(classification_report(ytest, ypred))\n",
    "    print('Test Accuracy: ', accuracy_score(ypred, ytest))\n",
    "\n",
    "    yprobs = fitted.predict_proba(Xtest)[:,1]\n",
    "    fpr, tpr, threshold = roc_curve(ytest,  yprobs)\n",
    "    roc_auc = auc(fpr, tpr)\n",
    "    print('')\n",
    "    print('AUC: ', roc_auc)\n",
    "    print('')\n",
    "    print('Log loss: ', log_loss(ytest, yprobs))\n",
    "    \n",
    "    return ypred, yprobs\n",
    "    \n",
    "def make_x(REVtrain, REVtest, vectorizer=None, min_df = 1, max_df = 1.0):\n",
    "    \"\"\"Create the matrix of features \"\"\"\n",
    "    if vectorizer is None:\n",
    "        print('The value of vectorizer is None ... using CountVectorizer')\n",
    "    else:\n",
    "        print('The value of vectorizer is NOT None ... using the provided vectorizer')\n",
    "    #\n",
    "    if vectorizer is None:\n",
    "        vectorizer = CountVectorizer(strip_accents = 'ascii', stop_words = sw, \n",
    "                                     min_df = min_df, max_df = max_df)\n",
    "   \n",
    "    Xtrain = vectorizer.fit_transform(REVtrain)\n",
    "    Xtrain = Xtrain.tocsc() \n",
    "    \n",
    "    Xtest = vectorizer.transform(REVtest)\n",
    "    Xtest = Xtest.tocsc()\n",
    "    \n",
    "    return Xtrain, Xtest, vectorizer "
   ]
  },
  {
   "cell_type": "code",
   "execution_count": 3,
   "metadata": {},
   "outputs": [
    {
     "data": {
      "text/plain": [
       "<function BufferedReader.close>"
      ]
     },
     "execution_count": 3,
     "metadata": {},
     "output_type": "execute_result"
    }
   ],
   "source": [
    "infile = open('../SavedFiles/fastFood_eng_binary.pkl', 'rb')\n",
    "fastFood = pickle.load(infile)\n",
    "infile.close"
   ]
  },
  {
   "cell_type": "code",
   "execution_count": 4,
   "metadata": {
    "scrolled": true
   },
   "outputs": [
    {
     "data": {
      "text/plain": [
       "{'a',\n",
       " 'about',\n",
       " 'above',\n",
       " 'after',\n",
       " 'again',\n",
       " 'against',\n",
       " 'ain',\n",
       " 'all',\n",
       " 'am',\n",
       " 'an',\n",
       " 'and',\n",
       " 'any',\n",
       " 'are',\n",
       " 'aren',\n",
       " \"aren't\",\n",
       " 'as',\n",
       " 'at',\n",
       " 'be',\n",
       " 'because',\n",
       " 'been',\n",
       " 'before',\n",
       " 'being',\n",
       " 'below',\n",
       " 'between',\n",
       " 'both',\n",
       " 'but',\n",
       " 'by',\n",
       " 'can',\n",
       " 'couldn',\n",
       " \"couldn't\",\n",
       " 'd',\n",
       " 'did',\n",
       " 'didn',\n",
       " \"didn't\",\n",
       " 'do',\n",
       " 'does',\n",
       " 'doesn',\n",
       " \"doesn't\",\n",
       " 'doing',\n",
       " 'don',\n",
       " \"don't\",\n",
       " 'down',\n",
       " 'during',\n",
       " 'each',\n",
       " 'few',\n",
       " 'for',\n",
       " 'from',\n",
       " 'further',\n",
       " 'had',\n",
       " 'hadn',\n",
       " \"hadn't\",\n",
       " 'has',\n",
       " 'hasn',\n",
       " \"hasn't\",\n",
       " 'have',\n",
       " 'haven',\n",
       " \"haven't\",\n",
       " 'having',\n",
       " 'he',\n",
       " 'her',\n",
       " 'here',\n",
       " 'hers',\n",
       " 'herself',\n",
       " 'him',\n",
       " 'himself',\n",
       " 'his',\n",
       " 'how',\n",
       " 'i',\n",
       " 'if',\n",
       " 'in',\n",
       " 'into',\n",
       " 'is',\n",
       " 'isn',\n",
       " \"isn't\",\n",
       " 'it',\n",
       " \"it's\",\n",
       " 'its',\n",
       " 'itself',\n",
       " 'just',\n",
       " 'll',\n",
       " 'm',\n",
       " 'ma',\n",
       " 'me',\n",
       " 'mightn',\n",
       " \"mightn't\",\n",
       " 'more',\n",
       " 'most',\n",
       " 'mustn',\n",
       " \"mustn't\",\n",
       " 'my',\n",
       " 'myself',\n",
       " 'needn',\n",
       " \"needn't\",\n",
       " 'no',\n",
       " 'nor',\n",
       " 'not',\n",
       " 'now',\n",
       " 'o',\n",
       " 'of',\n",
       " 'off',\n",
       " 'on',\n",
       " 'once',\n",
       " 'only',\n",
       " 'or',\n",
       " 'other',\n",
       " 'our',\n",
       " 'ours',\n",
       " 'ourselves',\n",
       " 'out',\n",
       " 'over',\n",
       " 'own',\n",
       " 're',\n",
       " 's',\n",
       " 'same',\n",
       " 'shan',\n",
       " \"shan't\",\n",
       " 'she',\n",
       " \"she's\",\n",
       " 'should',\n",
       " \"should've\",\n",
       " 'shouldn',\n",
       " \"shouldn't\",\n",
       " 'so',\n",
       " 'some',\n",
       " 'such',\n",
       " 't',\n",
       " 'than',\n",
       " 'that',\n",
       " \"that'll\",\n",
       " 'the',\n",
       " 'their',\n",
       " 'theirs',\n",
       " 'them',\n",
       " 'themselves',\n",
       " 'then',\n",
       " 'there',\n",
       " 'these',\n",
       " 'they',\n",
       " 'this',\n",
       " 'those',\n",
       " 'through',\n",
       " 'to',\n",
       " 'too',\n",
       " 'under',\n",
       " 'until',\n",
       " 'up',\n",
       " 've',\n",
       " 'very',\n",
       " 'was',\n",
       " 'wasn',\n",
       " \"wasn't\",\n",
       " 'we',\n",
       " 'were',\n",
       " 'weren',\n",
       " \"weren't\",\n",
       " 'what',\n",
       " 'when',\n",
       " 'where',\n",
       " 'which',\n",
       " 'while',\n",
       " 'who',\n",
       " 'whom',\n",
       " 'why',\n",
       " 'will',\n",
       " 'with',\n",
       " 'won',\n",
       " \"won't\",\n",
       " 'wouldn',\n",
       " \"wouldn't\",\n",
       " 'y',\n",
       " 'you',\n",
       " \"you'd\",\n",
       " \"you'll\",\n",
       " \"you're\",\n",
       " \"you've\",\n",
       " 'your',\n",
       " 'yours',\n",
       " 'yourself',\n",
       " 'yourselves'}"
      ]
     },
     "execution_count": 4,
     "metadata": {},
     "output_type": "execute_result"
    }
   ],
   "source": [
    "sw = set(stopwords.words('english'))\n",
    "sw"
   ]
  },
  {
   "cell_type": "code",
   "execution_count": 5,
   "metadata": {},
   "outputs": [],
   "source": [
    "#don't want to remove all the stopwords - for example \"not good\" is very different than \"good\", but not is\n",
    "#   a stopword.  I will just remove a few stop words and some punctuation\n",
    "sw = ['a', 'an', 'the', 'and']"
   ]
  },
  {
   "cell_type": "code",
   "execution_count": 6,
   "metadata": {},
   "outputs": [],
   "source": [
    "sw = sw + ['.', ',', '...', '\\'\\'', '\\\"', '``', '¡',  '{','|','||','}', '(', ')', \n",
    "                '\\'','[',']', ';', ':', '-', '_','—', '\\\\','/', '*', '~', '?', '!']"
   ]
  },
  {
   "cell_type": "markdown",
   "metadata": {},
   "source": [
    "## Make X and y "
   ]
  },
  {
   "cell_type": "code",
   "execution_count": 7,
   "metadata": {},
   "outputs": [],
   "source": [
    "tfidf = TfidfVectorizer(strip_accents = 'ascii', stop_words = sw, ngram_range = (1,2), max_df = 0.7)"
   ]
  },
  {
   "cell_type": "code",
   "execution_count": 8,
   "metadata": {},
   "outputs": [],
   "source": [
    "REVtrain, REVtest, ytrain, ytest = train_test_split(fastFood.text_tok, fastFood.pos, random_state = 123)"
   ]
  },
  {
   "cell_type": "code",
   "execution_count": 9,
   "metadata": {},
   "outputs": [
    {
     "data": {
      "text/plain": [
       "(54916,)"
      ]
     },
     "execution_count": 9,
     "metadata": {},
     "output_type": "execute_result"
    }
   ],
   "source": [
    "REVtest.shape"
   ]
  },
  {
   "cell_type": "code",
   "execution_count": 10,
   "metadata": {},
   "outputs": [
    {
     "name": "stdout",
     "output_type": "stream",
     "text": [
      "The value of vectorizer is NOT None ... using the provided vectorizer\n"
     ]
    }
   ],
   "source": [
    "Xtrain, Xtest, vectorizer = make_x(REVtrain, REVtest, vectorizer = tfidf)"
   ]
  },
  {
   "cell_type": "code",
   "execution_count": 11,
   "metadata": {},
   "outputs": [
    {
     "name": "stdout",
     "output_type": "stream",
     "text": [
      "Number of reviews:  164748\n",
      "Number of terms:  1903022\n"
     ]
    }
   ],
   "source": [
    "n_rows, n_cols = Xtrain.shape\n",
    "print('Number of reviews: ', n_rows)\n",
    "print('Number of terms: ', n_cols)"
   ]
  },
  {
   "cell_type": "code",
   "execution_count": 12,
   "metadata": {},
   "outputs": [],
   "source": [
    "feature_names = vectorizer.get_feature_names()"
   ]
  },
  {
   "cell_type": "code",
   "execution_count": 13,
   "metadata": {},
   "outputs": [],
   "source": [
    "word_frequencies = np.array([Xtrain[:,i].count_nonzero() for i in range(n_cols)])"
   ]
  },
  {
   "cell_type": "code",
   "execution_count": 14,
   "metadata": {},
   "outputs": [
    {
     "data": {
      "text/plain": [
       "range(0, 101109)"
      ]
     },
     "execution_count": 14,
     "metadata": {},
     "output_type": "execute_result"
    }
   ],
   "source": [
    "max_doc_freq = np.max(word_frequencies)\n",
    "x_values = range(max_doc_freq)\n",
    "x_values"
   ]
  },
  {
   "cell_type": "code",
   "execution_count": 15,
   "metadata": {},
   "outputs": [
    {
     "data": {
      "text/plain": [
       "'it'"
      ]
     },
     "execution_count": 15,
     "metadata": {},
     "output_type": "execute_result"
    }
   ],
   "source": [
    "#what unigram or bigram appears in the most reviews? \n",
    "most_freq_idx = list(word_frequencies).index(max_doc_freq)\n",
    "feature_names[most_freq_idx]"
   ]
  },
  {
   "cell_type": "markdown",
   "metadata": {},
   "source": [
    "## Hyperparameter Tuning"
   ]
  },
  {
   "cell_type": "code",
   "execution_count": 16,
   "metadata": {},
   "outputs": [
    {
     "data": {
      "image/png": "[encoded data removed]",
      "text/plain": [
       "<Figure size 432x288 with 1 Axes>"
      ]
     },
     "metadata": {
      "needs_background": "light"
     },
     "output_type": "display_data"
    }
   ],
   "source": [
    "y_values  = np.array([np.sum(word_frequencies <= i) for i in x_values])/n_cols\n",
    "\n",
    "plt.plot(x_values,y_values, marker = 'o',markersize = 2, linestyle = 'none')\n",
    "\n",
    "plt.xlabel('Document Frequencies')\n",
    "plt.ylabel('% of Terms that Appear in x or Fewer Docs')\n",
    "plt.title('CDF of Document Frequencies')\n",
    "plt.savefig('../SavedFiles/CDFofDocFreq_ngram12')"
   ]
  },
  {
   "cell_type": "code",
   "execution_count": 17,
   "metadata": {},
   "outputs": [
    {
     "data": {
      "image/png": "[encoded data removed]",
      "text/plain": [
       "<Figure size 432x288 with 1 Axes>"
      ]
     },
     "metadata": {
      "needs_background": "light"
     },
     "output_type": "display_data"
    }
   ],
   "source": [
    "plt.plot(x_values,y_values, marker = 'o',linestyle = 'none')\n",
    "plt.xlim([-1,50])\n",
    "plt.xlabel('Document Frequencies')\n",
    "plt.ylabel('% of Terms that Appear in x or Fewer Docs')\n",
    "plt.title('Zoomed CDF of Document Frequencies')\n",
    "plt.savefig('../SavedFiles/ZoomedCDFofDocFreq_ngram12')"
   ]
  },
  {
   "cell_type": "code",
   "execution_count": 18,
   "metadata": {},
   "outputs": [
    {
     "data": {
      "text/plain": [
       "Text(0.5, 1.0, 'Zoomed CDF of Document Frequencies')"
      ]
     },
     "execution_count": 18,
     "metadata": {},
     "output_type": "execute_result"
    },
    {
     "data": {
      "image/png": "[encoded data removed]",
      "text/plain": [
       "<Figure size 432x288 with 1 Axes>"
      ]
     },
     "metadata": {
      "needs_background": "light"
     },
     "output_type": "display_data"
    }
   ],
   "source": [
    "plt.plot(x_values,y_values, marker = '.', markersize = 0.02,linestyle = 'none')\n",
    "plt.xlim(10000,110000)\n",
    "plt.ylim(0.99,1.001)\n",
    "plt.xlabel('Document Frequencies')\n",
    "plt.ylabel('% of Terms that Appear in x or Fewer Docs')\n",
    "plt.title('Zoomed CDF of Document Frequencies')"
   ]
  },
  {
   "cell_type": "code",
   "execution_count": 19,
   "metadata": {},
   "outputs": [],
   "source": [
    "#choosing min_df = 3, max_df = 70000 --> overfitting - training accuracy 0.984, test accuracy = 0.896\n",
    "# 0.9032 with certain stopwords\n",
    "#min_df = 6, max_df = 50000, training accuracy 0.9065 overfitting\n",
    "tfidf = TfidfVectorizer(strip_accents = 'ascii', stop_words = sw, ngram_range = (1,2), min_df = 35, max_df = 45000)"
   ]
  },
  {
   "cell_type": "code",
   "execution_count": 20,
   "metadata": {
    "scrolled": true
   },
   "outputs": [
    {
     "name": "stdout",
     "output_type": "stream",
     "text": [
      "The value of vectorizer is NOT None ... using the provided vectorizer\n"
     ]
    }
   ],
   "source": [
    "Xtrain, Xtest, vectorizer = make_x(REVtrain, REVtest, vectorizer = tfidf)"
   ]
  },
  {
   "cell_type": "code",
   "execution_count": 21,
   "metadata": {},
   "outputs": [
    {
     "name": "stdout",
     "output_type": "stream",
     "text": [
      "Number of reviews:  164748\n",
      "Number of terms:  51515\n"
     ]
    }
   ],
   "source": [
    "n_rows, n_cols = Xtrain.shape\n",
    "print('Number of reviews: ', n_rows)\n",
    "print('Number of terms: ', n_cols)"
   ]
  },
  {
   "cell_type": "code",
   "execution_count": 22,
   "metadata": {},
   "outputs": [
    {
     "data": {
      "text/plain": [
       "44789"
      ]
     },
     "execution_count": 22,
     "metadata": {},
     "output_type": "execute_result"
    }
   ],
   "source": [
    "feature_names = vectorizer.get_feature_names()\n",
    "word_frequencies = np.array([Xtrain[:,i].count_nonzero() for i in range(n_cols)])\n",
    "max_doc_freq = np.max(word_frequencies)\n",
    "max_doc_freq"
   ]
  },
  {
   "cell_type": "code",
   "execution_count": 23,
   "metadata": {},
   "outputs": [
    {
     "data": {
      "text/plain": [
       "'service'"
      ]
     },
     "execution_count": 23,
     "metadata": {},
     "output_type": "execute_result"
    }
   ],
   "source": [
    "most_freq_idx = list(word_frequencies).index(max_doc_freq)\n",
    "feature_names[most_freq_idx]"
   ]
  },
  {
   "cell_type": "markdown",
   "metadata": {},
   "source": [
    "## Logistic Regression - min_df = 35, max_df = 45000"
   ]
  },
  {
   "cell_type": "code",
   "execution_count": 24,
   "metadata": {},
   "outputs": [
    {
     "name": "stderr",
     "output_type": "stream",
     "text": [
      "/Users/sineadoconnor/miniconda3/lib/python3.7/site-packages/sklearn/linear_model/logistic.py:758: ConvergenceWarning: lbfgs failed to converge. Increase the number of iterations.\n",
      "  \"of iterations.\", ConvergenceWarning)\n",
      "/Users/sineadoconnor/miniconda3/lib/python3.7/site-packages/sklearn/linear_model/logistic.py:758: ConvergenceWarning: lbfgs failed to converge. Increase the number of iterations.\n",
      "  \"of iterations.\", ConvergenceWarning)\n",
      "/Users/sineadoconnor/miniconda3/lib/python3.7/site-packages/sklearn/linear_model/logistic.py:758: ConvergenceWarning: lbfgs failed to converge. Increase the number of iterations.\n",
      "  \"of iterations.\", ConvergenceWarning)\n",
      "/Users/sineadoconnor/miniconda3/lib/python3.7/site-packages/sklearn/linear_model/logistic.py:758: ConvergenceWarning: lbfgs failed to converge. Increase the number of iterations.\n",
      "  \"of iterations.\", ConvergenceWarning)\n",
      "/Users/sineadoconnor/miniconda3/lib/python3.7/site-packages/sklearn/linear_model/logistic.py:758: ConvergenceWarning: lbfgs failed to converge. Increase the number of iterations.\n",
      "  \"of iterations.\", ConvergenceWarning)\n",
      "/Users/sineadoconnor/miniconda3/lib/python3.7/site-packages/sklearn/linear_model/logistic.py:758: ConvergenceWarning: lbfgs failed to converge. Increase the number of iterations.\n",
      "  \"of iterations.\", ConvergenceWarning)\n",
      "/Users/sineadoconnor/miniconda3/lib/python3.7/site-packages/sklearn/linear_model/logistic.py:758: ConvergenceWarning: lbfgs failed to converge. Increase the number of iterations.\n",
      "  \"of iterations.\", ConvergenceWarning)\n",
      "/Users/sineadoconnor/miniconda3/lib/python3.7/site-packages/sklearn/linear_model/logistic.py:758: ConvergenceWarning: lbfgs failed to converge. Increase the number of iterations.\n",
      "  \"of iterations.\", ConvergenceWarning)\n",
      "/Users/sineadoconnor/miniconda3/lib/python3.7/site-packages/sklearn/linear_model/logistic.py:758: ConvergenceWarning: lbfgs failed to converge. Increase the number of iterations.\n",
      "  \"of iterations.\", ConvergenceWarning)\n",
      "/Users/sineadoconnor/miniconda3/lib/python3.7/site-packages/sklearn/linear_model/logistic.py:758: ConvergenceWarning: lbfgs failed to converge. Increase the number of iterations.\n",
      "  \"of iterations.\", ConvergenceWarning)\n",
      "/Users/sineadoconnor/miniconda3/lib/python3.7/site-packages/sklearn/linear_model/logistic.py:758: ConvergenceWarning: lbfgs failed to converge. Increase the number of iterations.\n",
      "  \"of iterations.\", ConvergenceWarning)\n",
      "/Users/sineadoconnor/miniconda3/lib/python3.7/site-packages/sklearn/linear_model/logistic.py:758: ConvergenceWarning: lbfgs failed to converge. Increase the number of iterations.\n",
      "  \"of iterations.\", ConvergenceWarning)\n",
      "/Users/sineadoconnor/miniconda3/lib/python3.7/site-packages/sklearn/linear_model/logistic.py:758: ConvergenceWarning: lbfgs failed to converge. Increase the number of iterations.\n",
      "  \"of iterations.\", ConvergenceWarning)\n",
      "/Users/sineadoconnor/miniconda3/lib/python3.7/site-packages/sklearn/linear_model/logistic.py:758: ConvergenceWarning: lbfgs failed to converge. Increase the number of iterations.\n",
      "  \"of iterations.\", ConvergenceWarning)\n",
      "/Users/sineadoconnor/miniconda3/lib/python3.7/site-packages/sklearn/linear_model/logistic.py:758: ConvergenceWarning: lbfgs failed to converge. Increase the number of iterations.\n",
      "  \"of iterations.\", ConvergenceWarning)\n"
     ]
    },
    {
     "name": "stdout",
     "output_type": "stream",
     "text": [
      "Tuned Logistic Regression Parameters: {'C': 1}\n",
      "Best score is 0.9037742491562871\n"
     ]
    },
    {
     "name": "stderr",
     "output_type": "stream",
     "text": [
      "/Users/sineadoconnor/miniconda3/lib/python3.7/site-packages/sklearn/linear_model/logistic.py:758: ConvergenceWarning: lbfgs failed to converge. Increase the number of iterations.\n",
      "  \"of iterations.\", ConvergenceWarning)\n"
     ]
    }
   ],
   "source": [
    "#Cross VALIDATION\n",
    "param_grid = {'C': [0.001, 0.1, 1, 10, 100]}\n",
    "logistic = LogisticRegression(solver = 'lbfgs')\n",
    "logreg_cv = GridSearchCV(logistic, param_grid, cv = 5)\n",
    "fitted = logreg_cv.fit(Xtrain, ytrain)\n",
    "print(\"Tuned Logistic Regression Parameters: {}\".format(logreg_cv.best_params_)) \n",
    "print(\"Best score is {}\".format(logreg_cv.best_score_))"
   ]
  },
  {
   "cell_type": "code",
   "execution_count": 25,
   "metadata": {},
   "outputs": [
    {
     "name": "stdout",
     "output_type": "stream",
     "text": [
      "[Training Classification Report:]\n",
      "              precision    recall  f1-score   support\n",
      "\n",
      "           0       0.93      0.92      0.93     82065\n",
      "           1       0.92      0.93      0.93     82683\n",
      "\n",
      "   micro avg       0.93      0.93      0.93    164748\n",
      "   macro avg       0.93      0.93      0.93    164748\n",
      "weighted avg       0.93      0.93      0.93    164748\n",
      "\n",
      "Training Accuracy:  0.9269611770704348\n",
      "\n",
      "[Test Classification Report:]\n",
      "              precision    recall  f1-score   support\n",
      "\n",
      "           0       0.91      0.90      0.91     27281\n",
      "           1       0.91      0.91      0.91     27635\n",
      "\n",
      "   micro avg       0.91      0.91      0.91     54916\n",
      "   macro avg       0.91      0.91      0.91     54916\n",
      "weighted avg       0.91      0.91      0.91     54916\n",
      "\n",
      "Test Accuracy:  0.906784907859276\n",
      "\n",
      "AUC:  0.9664413624942066\n",
      "\n",
      "Log loss:  0.24192484745324933\n"
     ]
    }
   ],
   "source": [
    "ypred, yprobs = report(fitted)"
   ]
  },
  {
   "cell_type": "code",
   "execution_count": 26,
   "metadata": {},
   "outputs": [
    {
     "data": {
      "text/plain": [
       "array([[24686,  2595],\n",
       "       [ 2524, 25111]])"
      ]
     },
     "execution_count": 26,
     "metadata": {},
     "output_type": "execute_result"
    }
   ],
   "source": [
    "confusion_matrix(ytest, ypred)"
   ]
  },
  {
   "cell_type": "markdown",
   "metadata": {},
   "source": [
    "## Save Results"
   ]
  },
  {
   "cell_type": "code",
   "execution_count": 27,
   "metadata": {},
   "outputs": [
    {
     "data": {
      "text/html": [
       "<div>\n",
       "<style scoped>\n",
       "    .dataframe tbody tr th:only-of-type {\n",
       "        vertical-align: middle;\n",
       "    }\n",
       "\n",
       "    .dataframe tbody tr th {\n",
       "        vertical-align: top;\n",
       "    }\n",
       "\n",
       "    .dataframe thead th {\n",
       "        text-align: right;\n",
       "    }\n",
       "</style>\n",
       "<table border=\"1\" class=\"dataframe\">\n",
       "  <thead>\n",
       "    <tr style=\"text-align: right;\">\n",
       "      <th></th>\n",
       "      <th>text_tok</th>\n",
       "    </tr>\n",
       "  </thead>\n",
       "  <tbody>\n",
       "    <tr>\n",
       "      <th>172202</th>\n",
       "      <td>my wife and i picked up dinner at el pollo loc...</td>\n",
       "    </tr>\n",
       "    <tr>\n",
       "      <th>57202</th>\n",
       "      <td>visited the restaurant recently and was quite ...</td>\n",
       "    </tr>\n",
       "    <tr>\n",
       "      <th>31914</th>\n",
       "      <td>worst experience ever not the first time but m...</td>\n",
       "    </tr>\n",
       "    <tr>\n",
       "      <th>1441</th>\n",
       "      <td>blaze pizza is easily one of my favorite place...</td>\n",
       "    </tr>\n",
       "    <tr>\n",
       "      <th>184107</th>\n",
       "      <td>people made this place seem like the best plac...</td>\n",
       "    </tr>\n",
       "  </tbody>\n",
       "</table>\n",
       "</div>"
      ],
      "text/plain": [
       "                                                 text_tok\n",
       "172202  my wife and i picked up dinner at el pollo loc...\n",
       "57202   visited the restaurant recently and was quite ...\n",
       "31914   worst experience ever not the first time but m...\n",
       "1441    blaze pizza is easily one of my favorite place...\n",
       "184107  people made this place seem like the best plac..."
      ]
     },
     "execution_count": 27,
     "metadata": {},
     "output_type": "execute_result"
    }
   ],
   "source": [
    "results = pd.DataFrame(REVtest)\n",
    "results.head()"
   ]
  },
  {
   "cell_type": "code",
   "execution_count": 28,
   "metadata": {},
   "outputs": [],
   "source": [
    "results['ypred'] = ypred"
   ]
  },
  {
   "cell_type": "code",
   "execution_count": 29,
   "metadata": {},
   "outputs": [],
   "source": [
    "results['prob_pos'] = yprobs"
   ]
  },
  {
   "cell_type": "code",
   "execution_count": 30,
   "metadata": {},
   "outputs": [
    {
     "data": {
      "text/html": [
       "<div>\n",
       "<style scoped>\n",
       "    .dataframe tbody tr th:only-of-type {\n",
       "        vertical-align: middle;\n",
       "    }\n",
       "\n",
       "    .dataframe tbody tr th {\n",
       "        vertical-align: top;\n",
       "    }\n",
       "\n",
       "    .dataframe thead th {\n",
       "        text-align: right;\n",
       "    }\n",
       "</style>\n",
       "<table border=\"1\" class=\"dataframe\">\n",
       "  <thead>\n",
       "    <tr style=\"text-align: right;\">\n",
       "      <th></th>\n",
       "      <th>text_tok</th>\n",
       "      <th>ypred</th>\n",
       "      <th>prob_pos</th>\n",
       "    </tr>\n",
       "  </thead>\n",
       "  <tbody>\n",
       "    <tr>\n",
       "      <th>172202</th>\n",
       "      <td>my wife and i picked up dinner at el pollo loc...</td>\n",
       "      <td>0</td>\n",
       "      <td>0.489961</td>\n",
       "    </tr>\n",
       "    <tr>\n",
       "      <th>57202</th>\n",
       "      <td>visited the restaurant recently and was quite ...</td>\n",
       "      <td>0</td>\n",
       "      <td>0.022665</td>\n",
       "    </tr>\n",
       "    <tr>\n",
       "      <th>31914</th>\n",
       "      <td>worst experience ever not the first time but m...</td>\n",
       "      <td>0</td>\n",
       "      <td>0.029074</td>\n",
       "    </tr>\n",
       "    <tr>\n",
       "      <th>1441</th>\n",
       "      <td>blaze pizza is easily one of my favorite place...</td>\n",
       "      <td>1</td>\n",
       "      <td>0.994461</td>\n",
       "    </tr>\n",
       "    <tr>\n",
       "      <th>184107</th>\n",
       "      <td>people made this place seem like the best plac...</td>\n",
       "      <td>0</td>\n",
       "      <td>0.007200</td>\n",
       "    </tr>\n",
       "  </tbody>\n",
       "</table>\n",
       "</div>"
      ],
      "text/plain": [
       "                                                 text_tok  ypred  prob_pos\n",
       "172202  my wife and i picked up dinner at el pollo loc...      0  0.489961\n",
       "57202   visited the restaurant recently and was quite ...      0  0.022665\n",
       "31914   worst experience ever not the first time but m...      0  0.029074\n",
       "1441    blaze pizza is easily one of my favorite place...      1  0.994461\n",
       "184107  people made this place seem like the best plac...      0  0.007200"
      ]
     },
     "execution_count": 30,
     "metadata": {},
     "output_type": "execute_result"
    }
   ],
   "source": [
    "results.head()"
   ]
  },
  {
   "cell_type": "code",
   "execution_count": 31,
   "metadata": {},
   "outputs": [],
   "source": [
    "LRtfidf_results = fastFood.drop(REVtrain.index)"
   ]
  },
  {
   "cell_type": "code",
   "execution_count": 32,
   "metadata": {},
   "outputs": [],
   "source": [
    "LRtfidf_results = pd.concat([LRtfidf_results, results], axis = 1, join = 'outer')"
   ]
  },
  {
   "cell_type": "code",
   "execution_count": 33,
   "metadata": {},
   "outputs": [
    {
     "data": {
      "text/plain": [
       "(54916, 17)"
      ]
     },
     "execution_count": 33,
     "metadata": {},
     "output_type": "execute_result"
    }
   ],
   "source": [
    "LRtfidf_results.shape"
   ]
  },
  {
   "cell_type": "code",
   "execution_count": 34,
   "metadata": {},
   "outputs": [],
   "source": [
    "LRtfidf_results = LRtfidf_results[['review_id','business_id','name','text','stars','pos', 'ypred', 'prob_pos']]"
   ]
  },
  {
   "cell_type": "code",
   "execution_count": 35,
   "metadata": {},
   "outputs": [
    {
     "data": {
      "text/html": [
       "<div>\n",
       "<style scoped>\n",
       "    .dataframe tbody tr th:only-of-type {\n",
       "        vertical-align: middle;\n",
       "    }\n",
       "\n",
       "    .dataframe tbody tr th {\n",
       "        vertical-align: top;\n",
       "    }\n",
       "\n",
       "    .dataframe thead th {\n",
       "        text-align: right;\n",
       "    }\n",
       "</style>\n",
       "<table border=\"1\" class=\"dataframe\">\n",
       "  <thead>\n",
       "    <tr style=\"text-align: right;\">\n",
       "      <th></th>\n",
       "      <th>review_id</th>\n",
       "      <th>business_id</th>\n",
       "      <th>name</th>\n",
       "      <th>text</th>\n",
       "      <th>stars</th>\n",
       "      <th>pos</th>\n",
       "      <th>ypred</th>\n",
       "      <th>prob_pos</th>\n",
       "    </tr>\n",
       "  </thead>\n",
       "  <tbody>\n",
       "    <tr>\n",
       "      <th>14</th>\n",
       "      <td>-IISbnbz_R1X21uOXHD39g</td>\n",
       "      <td>_HGz-BfLYJlShdz_eg3BOw</td>\n",
       "      <td>Windy City Dogs</td>\n",
       "      <td>Good for kids.\\n\\n  Windy City Dogs features V...</td>\n",
       "      <td>2.0</td>\n",
       "      <td>0</td>\n",
       "      <td>1</td>\n",
       "      <td>0.615870</td>\n",
       "    </tr>\n",
       "    <tr>\n",
       "      <th>22</th>\n",
       "      <td>WPe_6jngcTeC5keB5WxPCw</td>\n",
       "      <td>Zx4CreRji7Dxgl8iqa1DXw</td>\n",
       "      <td>Raising Cane's Chicken Fingers</td>\n",
       "      <td>Delicious chicken!  Love the dipping sauce.  R...</td>\n",
       "      <td>5.0</td>\n",
       "      <td>1</td>\n",
       "      <td>1</td>\n",
       "      <td>0.987081</td>\n",
       "    </tr>\n",
       "    <tr>\n",
       "      <th>23</th>\n",
       "      <td>Q3gHMQZCT5Vs9r58xVqsTQ</td>\n",
       "      <td>lYv2-FaGQBhZnVxTb3Qc5Q</td>\n",
       "      <td>Wendy's</td>\n",
       "      <td>I have been here a few times but today the foo...</td>\n",
       "      <td>4.0</td>\n",
       "      <td>1</td>\n",
       "      <td>1</td>\n",
       "      <td>0.950613</td>\n",
       "    </tr>\n",
       "    <tr>\n",
       "      <th>24</th>\n",
       "      <td>AaDC5rIWkqUjYwHO6aiSKA</td>\n",
       "      <td>YeYtDdGRonHddnviDc1q7g</td>\n",
       "      <td>Teriyaki Boy Healthy Grill</td>\n",
       "      <td>Delicious and healthy!  I love that they are n...</td>\n",
       "      <td>4.0</td>\n",
       "      <td>1</td>\n",
       "      <td>1</td>\n",
       "      <td>0.985481</td>\n",
       "    </tr>\n",
       "    <tr>\n",
       "      <th>25</th>\n",
       "      <td>dLOylrREncIKdMpLulFgpA</td>\n",
       "      <td>6rN_wreWNCl3wLNZYZCYOA</td>\n",
       "      <td>Applebee's Grill + Bar</td>\n",
       "      <td>The good was TERRIBLE! In addition to that the...</td>\n",
       "      <td>1.0</td>\n",
       "      <td>0</td>\n",
       "      <td>0</td>\n",
       "      <td>0.005842</td>\n",
       "    </tr>\n",
       "  </tbody>\n",
       "</table>\n",
       "</div>"
      ],
      "text/plain": [
       "                 review_id             business_id  \\\n",
       "14  -IISbnbz_R1X21uOXHD39g  _HGz-BfLYJlShdz_eg3BOw   \n",
       "22  WPe_6jngcTeC5keB5WxPCw  Zx4CreRji7Dxgl8iqa1DXw   \n",
       "23  Q3gHMQZCT5Vs9r58xVqsTQ  lYv2-FaGQBhZnVxTb3Qc5Q   \n",
       "24  AaDC5rIWkqUjYwHO6aiSKA  YeYtDdGRonHddnviDc1q7g   \n",
       "25  dLOylrREncIKdMpLulFgpA  6rN_wreWNCl3wLNZYZCYOA   \n",
       "\n",
       "                              name  \\\n",
       "14                 Windy City Dogs   \n",
       "22  Raising Cane's Chicken Fingers   \n",
       "23                         Wendy's   \n",
       "24      Teriyaki Boy Healthy Grill   \n",
       "25          Applebee's Grill + Bar   \n",
       "\n",
       "                                                 text  stars  pos  ypred  \\\n",
       "14  Good for kids.\\n\\n  Windy City Dogs features V...    2.0    0      1   \n",
       "22  Delicious chicken!  Love the dipping sauce.  R...    5.0    1      1   \n",
       "23  I have been here a few times but today the foo...    4.0    1      1   \n",
       "24  Delicious and healthy!  I love that they are n...    4.0    1      1   \n",
       "25  The good was TERRIBLE! In addition to that the...    1.0    0      0   \n",
       "\n",
       "    prob_pos  \n",
       "14  0.615870  \n",
       "22  0.987081  \n",
       "23  0.950613  \n",
       "24  0.985481  \n",
       "25  0.005842  "
      ]
     },
     "execution_count": 35,
     "metadata": {},
     "output_type": "execute_result"
    }
   ],
   "source": [
    "LRtfidf_results.head()"
   ]
  },
  {
   "cell_type": "code",
   "execution_count": 36,
   "metadata": {},
   "outputs": [],
   "source": []
  },
  {
   "cell_type": "code",
   "execution_count": 37,
   "metadata": {},
   "outputs": [],
   "source": [
    "outfile = open('../SavedFiles/LRtfidf_results.pkl', 'wb')\n",
    "pickle.dump(LRtfidf_results, outfile)\n",
    "outfile.close()"
   ]
  }
 ],
 "metadata": {
  "kernelspec": {
   "display_name": "Python 3",
   "language": "python",
   "name": "python3"
  },
  "language_info": {
   "codemirror_mode": {
    "name": "ipython",
    "version": 3
   },
   "file_extension": ".py",
   "mimetype": "text/x-python",
   "name": "python",
   "nbconvert_exporter": "python",
   "pygments_lexer": "ipython3",
   "version": "3.7.1"
  }
 },
 "nbformat": 4,
 "nbformat_minor": 2
}
