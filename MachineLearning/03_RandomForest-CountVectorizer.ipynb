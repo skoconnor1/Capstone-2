{
 "cells": [
  {
   "cell_type": "markdown",
   "metadata": {},
   "source": [
    "# Random Forest - CountVectorizer"
   ]
  },
  {
   "cell_type": "code",
   "execution_count": 1,
   "metadata": {},
   "outputs": [],
   "source": [
    "%matplotlib inline\n",
    "import pickle\n",
    "import numpy as np\n",
    "import pandas as pd\n",
    "import seaborn as sns\n",
    "import matplotlib.pyplot as plt\n",
    "import matplotlib.cm as cm\n",
    "from datetime import datetime\n",
    "from scipy.stats import stats\n",
    "from scipy.stats import norm\n",
    "from statsmodels.stats.weightstats import ztest\n",
    "from statsmodels.stats.proportion import proportions_ztest\n",
    "import math\n",
    "from collections import OrderedDict\n",
    "\n",
    "from nltk.tokenize import word_tokenize\n",
    "from nltk.corpus import stopwords\n",
    "\n",
    "from sklearn.metrics import accuracy_score\n",
    "from sklearn.metrics import classification_report\n",
    "from sklearn.ensemble import RandomForestClassifier\n",
    "from sklearn.preprocessing import StandardScaler\n",
    "from sklearn.model_selection import GridSearchCV\n",
    "from sklearn.model_selection import train_test_split\n",
    "from sklearn.metrics import confusion_matrix\n",
    "from sklearn.metrics import log_loss\n",
    "from sklearn.metrics import roc_curve\n",
    "from sklearn.metrics import auc\n",
    "\n",
    "from sklearn.feature_extraction.text import CountVectorizer\n",
    "from sklearn.feature_extraction.text import TfidfVectorizer\n",
    "\n"
   ]
  },
  {
   "cell_type": "code",
   "execution_count": 2,
   "metadata": {},
   "outputs": [],
   "source": [
    "def make_x(REVtrain, REVtest, vectorizer=None, min_df = 1, max_df = 1.0):\n",
    "    \"\"\"Create the matrix of features \"\"\"\n",
    "    if vectorizer is None:\n",
    "        print('The value of vectorizer is None ... using CountVectorizer')\n",
    "    else:\n",
    "        print('The value of vectorizer is NOT None ... using the provided vectorizer')\n",
    "    #\n",
    "    if vectorizer is None:\n",
    "        vectorizer = CountVectorizer(strip_accents = 'ascii', stop_words = sw, \n",
    "                                     min_df = min_df, max_df = max_df)\n",
    "   \n",
    "    Xtrain = vectorizer.fit_transform(REVtrain)\n",
    "    Xtrain = Xtrain.tocsc() \n",
    "    \n",
    "    Xtest = vectorizer.transform(REVtest)\n",
    "    Xtest = Xtest.tocsc()\n",
    "    \n",
    "    return Xtrain, Xtest, vectorizer \n",
    "\n",
    "\n",
    "def roc_auc(fit, Xtest, ytest):\n",
    "    yprobs = fit.predict_proba(Xtest)[:,1]\n",
    "    fpr, tpr, threshold = roc_curve(ytest,  yprobs)\n",
    "    roc_auc = auc(fpr, tpr)\n",
    "    print('AUC: ', roc_auc)\n",
    "\n",
    "def plot_featimportances(forest, Xtrain, vectorizer, figname=None):\n",
    "    importances = forest.feature_importances_\n",
    "    std = np.std([tree.feature_importances_ for tree in forest.estimators_],\n",
    "             axis=0)\n",
    "    indices = np.argsort(importances)[::-1]\n",
    "    col_names = []\n",
    "\n",
    "    # Print the feature ranking\n",
    "    print(\"Feature ranking:\")\n",
    "    feat_names = vectorizer.get_feature_names()\n",
    "    \n",
    "    for f in range(Xtrain.shape[1]):\n",
    "        idx = indices[f]\n",
    "        feat_name = feat_names[idx]\n",
    "        col_names.append(feat_name)\n",
    "    \n",
    "    for i in range(50):\n",
    "        col_name = col_names[i]\n",
    "        print(\"%d. %s (%f)\" % (i + 1, col_name, importances[indices[i]]))\n",
    "        \n",
    "    # Plot the feature importances of the forest\n",
    "    plt.figure(figsize=(10,10))\n",
    "\n",
    "    plt.title(\"Feature importances\")\n",
    "    plt.bar(range(50), importances[indices[:50]],\n",
    "           color=\"r\", yerr=std[indices[f]], align=\"center\")\n",
    "    plt.xticks(range(50), col_names[:50], rotation='vertical')\n",
    "    plt.xlim([-1, 50])\n",
    "        \n",
    "    if figname != None:\n",
    "         plt.savefig(figname, dpi=300)\n",
    "            \n",
    "    return col_names[:50]"
   ]
  },
  {
   "cell_type": "code",
   "execution_count": 3,
   "metadata": {},
   "outputs": [],
   "source": [
    "def plot_oob_errors(Xtrain, ytrain, figname = None):\n",
    "    RANDOM_STATE = 123\n",
    "\n",
    "    ensemble_clfs = [\n",
    "        (\"RandomForestClassifier, max_features='sqrt'\",\n",
    "            RandomForestClassifier(n_estimators=100,\n",
    "                                   warm_start=True, oob_score=True,\n",
    "                                   max_features=\"sqrt\",\n",
    "                                   random_state=RANDOM_STATE)),\n",
    "        (\"RandomForestClassifier, max_features='log2'\",\n",
    "            RandomForestClassifier(n_estimators=100,\n",
    "                                   warm_start=True, max_features='log2',\n",
    "                                   oob_score=True,\n",
    "                                   random_state=RANDOM_STATE)),\n",
    "    ]\n",
    "\n",
    "    # Map a classifier name to a list of (<n_estimators>, <error rate>) pairs.\n",
    "    error_rate = OrderedDict((label, []) for label, _ in ensemble_clfs)\n",
    "\n",
    "    # Range of `n_estimators` values to explore.\n",
    "    min_estimators = 25\n",
    "    max_estimators = 50\n",
    "\n",
    "    for label, clf in ensemble_clfs:\n",
    "        for i in range(min_estimators, max_estimators + 1):\n",
    "            clf.set_params(n_estimators=i)\n",
    "            clf.fit(Xtrain, ytrain)\n",
    "\n",
    "            # Record the OOB error for each `n_estimators=i` setting.\n",
    "            oob_error = 1 - clf.oob_score_\n",
    "            error_rate[label].append((i, oob_error))\n",
    "\n",
    "    # Generate the \"OOB error rate\" vs. \"n_estimators\" plot.\n",
    "    for label, clf_err in error_rate.items():\n",
    "        xs, ys = zip(*clf_err)\n",
    "        plt.plot(xs, ys, label=label)\n",
    "\n",
    "    plt.xlim(min_estimators, max_estimators)\n",
    "    plt.xlabel(\"n_estimators\")\n",
    "    plt.ylabel(\"OOB error rate\")\n",
    "    plt.legend(loc=\"upper right\")\n",
    "    \n",
    "    if figname != None:\n",
    "         plt.savefig(figname, dpi=300)"
   ]
  },
  {
   "cell_type": "code",
   "execution_count": 4,
   "metadata": {},
   "outputs": [],
   "source": [
    " def report(fitted):   \n",
    "    ypred = fitted.predict(Xtest)\n",
    "\n",
    "    print(\"[Test Classification Report:]\")\n",
    "    print(classification_report(ytest, ypred))\n",
    "    print('Test Accuracy: ', accuracy_score(ypred, ytest))\n",
    "\n",
    "    yprobs = fitted.predict_proba(Xtest)[:,1]\n",
    "    fpr, tpr, threshold = roc_curve(ytest,  yprobs)\n",
    "    roc_auc = auc(fpr, tpr)\n",
    "    print('')\n",
    "    print('AUC: ', roc_auc)\n",
    "    print('')\n",
    "    print('Log loss: ', log_loss(ytest, yprobs))\n",
    "    \n",
    "    return ypred, yprobs"
   ]
  },
  {
   "cell_type": "code",
   "execution_count": 5,
   "metadata": {},
   "outputs": [
    {
     "data": {
      "text/plain": [
       "<function BufferedReader.close>"
      ]
     },
     "execution_count": 5,
     "metadata": {},
     "output_type": "execute_result"
    }
   ],
   "source": [
    "infile = open('../SavedFiles/fastFood_eng_binary.pkl', 'rb')\n",
    "fastFood = pickle.load(infile)\n",
    "infile.close"
   ]
  },
  {
   "cell_type": "code",
   "execution_count": 6,
   "metadata": {},
   "outputs": [],
   "source": [
    "RANDOM_STATE = 123"
   ]
  },
  {
   "cell_type": "code",
   "execution_count": 7,
   "metadata": {},
   "outputs": [],
   "source": [
    "sw = stopwords.words('english')\n",
    "sw = word_tokenize(' '.join([w for w in sw]))\n",
    "sw = sw + ['.', ',', '...', '\\'\\'', '\\\"', '``', '¡',  '{','|','||','}', '(',')']"
   ]
  },
  {
   "cell_type": "code",
   "execution_count": 8,
   "metadata": {},
   "outputs": [],
   "source": [
    "REVtrain, REVtest, ytrain, ytest = train_test_split(fastFood.text_tok, fastFood.pos, random_state=123)"
   ]
  },
  {
   "cell_type": "code",
   "execution_count": 9,
   "metadata": {},
   "outputs": [
    {
     "name": "stdout",
     "output_type": "stream",
     "text": [
      "The value of vectorizer is None ... using CountVectorizer\n"
     ]
    }
   ],
   "source": [
    "Xtrain, Xtest, vectorizer = make_x(REVtrain, REVtest, min_df = 3, max_df = 70000)"
   ]
  },
  {
   "cell_type": "code",
   "execution_count": 10,
   "metadata": {
    "scrolled": true
   },
   "outputs": [
    {
     "name": "stderr",
     "output_type": "stream",
     "text": [
      "/Users/sineadoconnor/miniconda3/lib/python3.7/site-packages/sklearn/ensemble/forest.py:458: UserWarning: Some inputs do not have OOB scores. This probably means too few trees were used to compute any reliable oob estimates.\n",
      "  warn(\"Some inputs do not have OOB scores. \"\n",
      "/Users/sineadoconnor/miniconda3/lib/python3.7/site-packages/sklearn/ensemble/forest.py:463: RuntimeWarning: divide by zero encountered in true_divide\n",
      "  predictions[k].sum(axis=1)[:, np.newaxis])\n",
      "/Users/sineadoconnor/miniconda3/lib/python3.7/site-packages/sklearn/ensemble/forest.py:463: RuntimeWarning: invalid value encountered in true_divide\n",
      "  predictions[k].sum(axis=1)[:, np.newaxis])\n",
      "/Users/sineadoconnor/miniconda3/lib/python3.7/site-packages/sklearn/ensemble/forest.py:458: UserWarning: Some inputs do not have OOB scores. This probably means too few trees were used to compute any reliable oob estimates.\n",
      "  warn(\"Some inputs do not have OOB scores. \"\n",
      "/Users/sineadoconnor/miniconda3/lib/python3.7/site-packages/sklearn/ensemble/forest.py:463: RuntimeWarning: divide by zero encountered in true_divide\n",
      "  predictions[k].sum(axis=1)[:, np.newaxis])\n",
      "/Users/sineadoconnor/miniconda3/lib/python3.7/site-packages/sklearn/ensemble/forest.py:463: RuntimeWarning: invalid value encountered in true_divide\n",
      "  predictions[k].sum(axis=1)[:, np.newaxis])\n"
     ]
    },
    {
     "data": {
      "image/png": "[encoded data removed]",
      "text/plain": [
       "<Figure size 432x288 with 1 Axes>"
      ]
     },
     "metadata": {
      "needs_background": "light"
     },
     "output_type": "display_data"
    }
   ],
   "source": [
    "plot_oob_errors(Xtrain, ytrain, figname = 'OOB.png')"
   ]
  },
  {
   "cell_type": "code",
   "execution_count": 11,
   "metadata": {},
   "outputs": [
    {
     "name": "stdout",
     "output_type": "stream",
     "text": [
      "[Test Classification Report:]\n",
      "              precision    recall  f1-score   support\n",
      "\n",
      "           0       0.88      0.85      0.86     27281\n",
      "           1       0.86      0.88      0.87     27635\n",
      "\n",
      "   micro avg       0.87      0.87      0.87     54916\n",
      "   macro avg       0.87      0.87      0.87     54916\n",
      "weighted avg       0.87      0.87      0.87     54916\n",
      "\n",
      "Test Accuracy:  0.8667419331342414\n",
      "\n",
      "AUC:  0.9397681808184549\n",
      "\n",
      "Log loss:  0.38182600645722586\n"
     ]
    }
   ],
   "source": [
    "rf = RandomForestClassifier(n_estimators=500, max_features='sqrt',random_state=123)\n",
    "fitted = rf.fit(Xtrain,ytrain)\n",
    "\n",
    "ypred, yprobs = report(fitted)\n",
    "\n",
    "#roc_auc(rf, Xtest, ytest)"
   ]
  },
  {
   "cell_type": "code",
   "execution_count": 12,
   "metadata": {},
   "outputs": [
    {
     "data": {
      "text/plain": [
       "array([[23162,  4119],\n",
       "       [ 3199, 24436]])"
      ]
     },
     "execution_count": 12,
     "metadata": {},
     "output_type": "execute_result"
    }
   ],
   "source": [
    "confusion_matrix(ytest, ypred)"
   ]
  },
  {
   "cell_type": "code",
   "execution_count": 13,
   "metadata": {},
   "outputs": [
    {
     "name": "stdout",
     "output_type": "stream",
     "text": [
      "Feature ranking:\n",
      "1. great (0.023520)\n",
      "2. delicious (0.014017)\n",
      "3. friendly (0.010981)\n",
      "4. best (0.010755)\n",
      "5. love (0.010191)\n",
      "6. worst (0.010114)\n",
      "7. amazing (0.009240)\n",
      "8. awesome (0.007171)\n",
      "9. fresh (0.007048)\n",
      "10. rude (0.006978)\n",
      "11. good (0.006535)\n",
      "12. always (0.005785)\n",
      "13. horrible (0.005585)\n",
      "14. minutes (0.005494)\n",
      "15. asked (0.004955)\n",
      "16. definitely (0.004894)\n",
      "17. order (0.004827)\n",
      "18. slow (0.004457)\n",
      "19. terrible (0.004455)\n",
      "20. excellent (0.004383)\n",
      "21. favorite (0.004233)\n",
      "22. ok (0.004151)\n",
      "23. bad (0.003842)\n",
      "24. ordered (0.003743)\n",
      "25. cold (0.003731)\n",
      "26. fast (0.003725)\n",
      "27. nice (0.003710)\n",
      "28. told (0.003569)\n",
      "29. said (0.003392)\n",
      "30. drive (0.003267)\n",
      "31. clean (0.003249)\n",
      "32. nothing (0.003083)\n",
      "33. perfect (0.003048)\n",
      "34. dirty (0.003036)\n",
      "35. place (0.002941)\n",
      "36. tasty (0.002721)\n",
      "37. waited (0.002709)\n",
      "38. got (0.002654)\n",
      "39. never (0.002616)\n",
      "40. like (0.002580)\n",
      "41. time (0.002460)\n",
      "42. service (0.002446)\n",
      "43. money (0.002415)\n",
      "44. disgusting (0.002410)\n",
      "45. super (0.002404)\n",
      "46. get (0.002394)\n",
      "47. poor (0.002356)\n",
      "48. location (0.002317)\n",
      "49. thru (0.002275)\n",
      "50. quick (0.002259)\n"
     ]
    },
    {
     "data": {
      "image/png": "[encoded data removed]",
      "text/plain": [
       "<Figure size 720x720 with 1 Axes>"
      ]
     },
     "metadata": {
      "needs_background": "light"
     },
     "output_type": "display_data"
    }
   ],
   "source": [
    "feat_imp_order = plot_featimportances(rf, Xtrain, vectorizer, figname = 'FeatImp.png')"
   ]
  },
  {
   "cell_type": "code",
   "execution_count": null,
   "metadata": {},
   "outputs": [],
   "source": []
  }
 ],
 "metadata": {
  "kernelspec": {
   "display_name": "Python 3",
   "language": "python",
   "name": "python3"
  },
  "language_info": {
   "codemirror_mode": {
    "name": "ipython",
    "version": 3
   },
   "file_extension": ".py",
   "mimetype": "text/x-python",
   "name": "python",
   "nbconvert_exporter": "python",
   "pygments_lexer": "ipython3",
   "version": "3.7.1"
  }
 },
 "nbformat": 4,
 "nbformat_minor": 2
}
