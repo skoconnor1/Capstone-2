{
 "cells": [
  {
   "cell_type": "markdown",
   "metadata": {},
   "source": [
    "# Exploratory Data Analysis - Inferential Statistics"
   ]
  },
  {
   "cell_type": "code",
   "execution_count": 1,
   "metadata": {},
   "outputs": [],
   "source": [
    "import pyspark\n",
    "from pyspark.sql import SparkSession\n",
    "\n",
    "import pyspark.sql.functions as f\n",
    "from pyspark.sql.functions import udf\n",
    "from pyspark.sql.functions import col, split\n",
    "from pyspark.sql.functions import array_contains\n",
    "\n",
    "import matplotlib.pyplot as plt\n",
    "import numpy as np\n",
    "import pandas as pd\n",
    "import seaborn as sns\n",
    "\n",
    "import datetime\n",
    "\n",
    "\n",
    "import json\n",
    "import nltk\n",
    "from nltk.tokenize import word_tokenize\n",
    "\n",
    "import collections\n",
    "from collections import Counter\n",
    "\n",
    "from scipy.stats import stats\n",
    "from scipy.stats import norm\n",
    "from statsmodels.stats.weightstats import ztest\n",
    "from statsmodels.stats.proportion import proportions_ztest\n",
    "\n",
    "import re\n",
    "\n",
    "\n",
    "\n",
    "%matplotlib inline"
   ]
  },
  {
   "cell_type": "code",
   "execution_count": 2,
   "metadata": {},
   "outputs": [],
   "source": [
    "spark = SparkSession.builder.getOrCreate()\n",
    "sc = spark.sparkContext"
   ]
  },
  {
   "cell_type": "code",
   "execution_count": 3,
   "metadata": {},
   "outputs": [],
   "source": [
    "fastFoodDF = spark.read.json('../SavedFiles/fastFood.json')"
   ]
  },
  {
   "cell_type": "code",
   "execution_count": 4,
   "metadata": {},
   "outputs": [],
   "source": [
    "fastFoodPDF = fastFoodDF.toPandas()"
   ]
  },
  {
   "cell_type": "code",
   "execution_count": 5,
   "metadata": {},
   "outputs": [
    {
     "data": {
      "text/plain": [
       "(220507, 10)"
      ]
     },
     "execution_count": 5,
     "metadata": {},
     "output_type": "execute_result"
    }
   ],
   "source": [
    "fastFoodPDF.shape"
   ]
  },
  {
   "cell_type": "code",
   "execution_count": 6,
   "metadata": {},
   "outputs": [
    {
     "data": {
      "text/html": [
       "<div>\n",
       "<style scoped>\n",
       "    .dataframe tbody tr th:only-of-type {\n",
       "        vertical-align: middle;\n",
       "    }\n",
       "\n",
       "    .dataframe tbody tr th {\n",
       "        vertical-align: top;\n",
       "    }\n",
       "\n",
       "    .dataframe thead th {\n",
       "        text-align: right;\n",
       "    }\n",
       "</style>\n",
       "<table border=\"1\" class=\"dataframe\">\n",
       "  <thead>\n",
       "    <tr style=\"text-align: right;\">\n",
       "      <th></th>\n",
       "      <th>business_id</th>\n",
       "      <th>city</th>\n",
       "      <th>date</th>\n",
       "      <th>name</th>\n",
       "      <th>review_id</th>\n",
       "      <th>stars</th>\n",
       "      <th>state</th>\n",
       "      <th>text</th>\n",
       "      <th>useful</th>\n",
       "      <th>word_count</th>\n",
       "    </tr>\n",
       "  </thead>\n",
       "  <tbody>\n",
       "    <tr>\n",
       "      <th>0</th>\n",
       "      <td>lYv2-FaGQBhZnVxTb3Qc5Q</td>\n",
       "      <td>Las Vegas</td>\n",
       "      <td>2012-04-05 01:45:36</td>\n",
       "      <td>Wendy's</td>\n",
       "      <td>Ieq-XKnp5BrK95VuvXNouQ</td>\n",
       "      <td>1.0</td>\n",
       "      <td>NV</td>\n",
       "      <td>PLEASE AVOID THIS PLACE.\\nstupid dude cant cou...</td>\n",
       "      <td>1</td>\n",
       "      <td>28</td>\n",
       "    </tr>\n",
       "    <tr>\n",
       "      <th>1</th>\n",
       "      <td>aZOoc-87ESqy8apJO3J-Yw</td>\n",
       "      <td>Gilbert</td>\n",
       "      <td>2017-05-28 23:01:26</td>\n",
       "      <td>Slim Chickens</td>\n",
       "      <td>ZbFJnkkPQ_fiUw0FJKzLbg</td>\n",
       "      <td>5.0</td>\n",
       "      <td>AZ</td>\n",
       "      <td>What a welcome concept in fast food.  Cute pla...</td>\n",
       "      <td>0</td>\n",
       "      <td>83</td>\n",
       "    </tr>\n",
       "    <tr>\n",
       "      <th>2</th>\n",
       "      <td>dKdApYVFDSNYsNOso6NYlA</td>\n",
       "      <td>Las Vegas</td>\n",
       "      <td>2017-01-07 05:43:47</td>\n",
       "      <td>White Castle</td>\n",
       "      <td>xYmddD9LEtZSoPK0x7u52w</td>\n",
       "      <td>3.0</td>\n",
       "      <td>NV</td>\n",
       "      <td>Been wanting to try this place since everyone ...</td>\n",
       "      <td>1</td>\n",
       "      <td>116</td>\n",
       "    </tr>\n",
       "    <tr>\n",
       "      <th>3</th>\n",
       "      <td>KpfCj839-MPcxM8FKkW7GA</td>\n",
       "      <td>Pittsburgh</td>\n",
       "      <td>2012-10-18 19:31:19</td>\n",
       "      <td>Taco Bell</td>\n",
       "      <td>wVoXYLxYIO_JsiPQFl7E7w</td>\n",
       "      <td>3.0</td>\n",
       "      <td>PA</td>\n",
       "      <td>Stopped here because I finally had to try the ...</td>\n",
       "      <td>1</td>\n",
       "      <td>153</td>\n",
       "    </tr>\n",
       "    <tr>\n",
       "      <th>4</th>\n",
       "      <td>KCIVWrtbeIlLpzRJWxJz4g</td>\n",
       "      <td>Toronto</td>\n",
       "      <td>2017-07-21 17:22:22</td>\n",
       "      <td>McDonalds</td>\n",
       "      <td>ZaAVeAOF2S1PYIsg7sjJyQ</td>\n",
       "      <td>1.0</td>\n",
       "      <td>ON</td>\n",
       "      <td>Everytime I go to this spot for ice cream, I w...</td>\n",
       "      <td>0</td>\n",
       "      <td>81</td>\n",
       "    </tr>\n",
       "  </tbody>\n",
       "</table>\n",
       "</div>"
      ],
      "text/plain": [
       "              business_id        city                 date           name  \\\n",
       "0  lYv2-FaGQBhZnVxTb3Qc5Q   Las Vegas  2012-04-05 01:45:36        Wendy's   \n",
       "1  aZOoc-87ESqy8apJO3J-Yw     Gilbert  2017-05-28 23:01:26  Slim Chickens   \n",
       "2  dKdApYVFDSNYsNOso6NYlA   Las Vegas  2017-01-07 05:43:47   White Castle   \n",
       "3  KpfCj839-MPcxM8FKkW7GA  Pittsburgh  2012-10-18 19:31:19      Taco Bell   \n",
       "4  KCIVWrtbeIlLpzRJWxJz4g     Toronto  2017-07-21 17:22:22      McDonalds   \n",
       "\n",
       "                review_id  stars state  \\\n",
       "0  Ieq-XKnp5BrK95VuvXNouQ    1.0    NV   \n",
       "1  ZbFJnkkPQ_fiUw0FJKzLbg    5.0    AZ   \n",
       "2  xYmddD9LEtZSoPK0x7u52w    3.0    NV   \n",
       "3  wVoXYLxYIO_JsiPQFl7E7w    3.0    PA   \n",
       "4  ZaAVeAOF2S1PYIsg7sjJyQ    1.0    ON   \n",
       "\n",
       "                                                text  useful  word_count  \n",
       "0  PLEASE AVOID THIS PLACE.\\nstupid dude cant cou...       1          28  \n",
       "1  What a welcome concept in fast food.  Cute pla...       0          83  \n",
       "2  Been wanting to try this place since everyone ...       1         116  \n",
       "3  Stopped here because I finally had to try the ...       1         153  \n",
       "4  Everytime I go to this spot for ice cream, I w...       0          81  "
      ]
     },
     "execution_count": 6,
     "metadata": {},
     "output_type": "execute_result"
    }
   ],
   "source": [
    "fastFoodPDF.head()"
   ]
  },
  {
   "cell_type": "markdown",
   "metadata": {},
   "source": [
    "## Question 1: Do people from the USA rate fast food establishments differently than Canadians do?"
   ]
  },
  {
   "cell_type": "markdown",
   "metadata": {},
   "source": [
    "HYPOTHESIS TEST: <br>\n",
    "Null hypothesis: The average star-rating of fast food establishments is the same in the USA and in Canada. <br>\n",
    "$H_0$: $\\mu_{usa}$ = $\\mu_{can}$ <br>\n",
    "Alternate hypothesis: There is a statistically significant difference in star-ratings of fast food restaurants in the USA and Canada. <br>\n",
    "$H_A$: $\\mu_{usa}$ $\\neq$ $\\mu_{can}$ <br>\n",
    "$\\alpha$ = 0.01"
   ]
  },
  {
   "cell_type": "code",
   "execution_count": 7,
   "metadata": {},
   "outputs": [
    {
     "data": {
      "text/plain": [
       "array(['NV', 'AZ', 'PA', 'ON', 'OH', 'WI', 'NC', 'IL', 'QC', 'AB', 'SC',\n",
       "       'FL', 'AR', 'NY', 'BC'], dtype=object)"
      ]
     },
     "execution_count": 7,
     "metadata": {},
     "output_type": "execute_result"
    }
   ],
   "source": [
    "fastFoodPDF['state'].unique()"
   ]
  },
  {
   "cell_type": "code",
   "execution_count": 8,
   "metadata": {},
   "outputs": [],
   "source": [
    "def which_country(state):\n",
    "    provinces = ['ON', 'QC', 'AB', 'BC']\n",
    "    if state in provinces:\n",
    "        country = 'CAN'\n",
    "    else:\n",
    "        country = 'USA'\n",
    "    return country"
   ]
  },
  {
   "cell_type": "code",
   "execution_count": 9,
   "metadata": {},
   "outputs": [],
   "source": [
    "fastFoodPDF['country'] = fastFoodPDF['state'].apply(which_country)"
   ]
  },
  {
   "cell_type": "code",
   "execution_count": 10,
   "metadata": {},
   "outputs": [
    {
     "data": {
      "text/html": [
       "<div>\n",
       "<style scoped>\n",
       "    .dataframe tbody tr th:only-of-type {\n",
       "        vertical-align: middle;\n",
       "    }\n",
       "\n",
       "    .dataframe tbody tr th {\n",
       "        vertical-align: top;\n",
       "    }\n",
       "\n",
       "    .dataframe thead th {\n",
       "        text-align: right;\n",
       "    }\n",
       "</style>\n",
       "<table border=\"1\" class=\"dataframe\">\n",
       "  <thead>\n",
       "    <tr style=\"text-align: right;\">\n",
       "      <th></th>\n",
       "      <th>count</th>\n",
       "      <th>mean</th>\n",
       "      <th>std</th>\n",
       "      <th>min</th>\n",
       "      <th>25%</th>\n",
       "      <th>50%</th>\n",
       "      <th>75%</th>\n",
       "      <th>max</th>\n",
       "    </tr>\n",
       "    <tr>\n",
       "      <th>country</th>\n",
       "      <th></th>\n",
       "      <th></th>\n",
       "      <th></th>\n",
       "      <th></th>\n",
       "      <th></th>\n",
       "      <th></th>\n",
       "      <th></th>\n",
       "      <th></th>\n",
       "    </tr>\n",
       "  </thead>\n",
       "  <tbody>\n",
       "    <tr>\n",
       "      <th>CAN</th>\n",
       "      <td>29284.0</td>\n",
       "      <td>3.337932</td>\n",
       "      <td>1.372547</td>\n",
       "      <td>1.0</td>\n",
       "      <td>2.0</td>\n",
       "      <td>4.0</td>\n",
       "      <td>4.0</td>\n",
       "      <td>5.0</td>\n",
       "    </tr>\n",
       "    <tr>\n",
       "      <th>USA</th>\n",
       "      <td>191223.0</td>\n",
       "      <td>3.150453</td>\n",
       "      <td>1.604099</td>\n",
       "      <td>1.0</td>\n",
       "      <td>1.0</td>\n",
       "      <td>3.0</td>\n",
       "      <td>5.0</td>\n",
       "      <td>5.0</td>\n",
       "    </tr>\n",
       "  </tbody>\n",
       "</table>\n",
       "</div>"
      ],
      "text/plain": [
       "            count      mean       std  min  25%  50%  75%  max\n",
       "country                                                       \n",
       "CAN       29284.0  3.337932  1.372547  1.0  2.0  4.0  4.0  5.0\n",
       "USA      191223.0  3.150453  1.604099  1.0  1.0  3.0  5.0  5.0"
      ]
     },
     "execution_count": 10,
     "metadata": {},
     "output_type": "execute_result"
    }
   ],
   "source": [
    "fastFoodPDF.groupby('country')['stars'].describe()"
   ]
  },
  {
   "cell_type": "code",
   "execution_count": 11,
   "metadata": {},
   "outputs": [
    {
     "data": {
      "text/plain": [
       "<matplotlib.axes._subplots.AxesSubplot at 0x1a25f610b8>"
      ]
     },
     "execution_count": 11,
     "metadata": {},
     "output_type": "execute_result"
    },
    {
     "data": {
      "image/png": "[encoded data removed]",
      "text/plain": [
       "<Figure size 432x288 with 1 Axes>"
      ]
     },
     "metadata": {
      "needs_background": "light"
     },
     "output_type": "display_data"
    }
   ],
   "source": [
    "sns.boxplot(x='country', y='stars', data=fastFoodPDF, palette=['blue', 'red'])"
   ]
  },
  {
   "cell_type": "markdown",
   "metadata": {},
   "source": [
    "The above summary statistics show that there were 29,284 Canadian fast food restaurants reviewed and 191,223 US fast food restaurants reviewed.  The average rating in Canada (3.338) was 0.188 stars higher than in the US (3.15).  We also see visually boxplots that there is less spread in Canada. I was a bit surprised to observe a higher average rating of fat food restaurants in Canada because the US has a reputation for loving fast food.  However, it is possible that Canadian fast food establishments are of higher quality. <br>\n",
    "Let's see if the observed difference is statistically significant..."
   ]
  },
  {
   "cell_type": "code",
   "execution_count": null,
   "metadata": {},
   "outputs": [],
   "source": []
  },
  {
   "cell_type": "code",
   "execution_count": 12,
   "metadata": {},
   "outputs": [
    {
     "name": "stdout",
     "output_type": "stream",
     "text": [
      "Observed Diff in Means:  -0.1874793635880394\n",
      "Margin of error:  0.026960741588325527\n",
      "99% confidence interval:  (-0.21444010517636494, -0.16051862199971387)\n"
     ]
    }
   ],
   "source": [
    "ratingUSA = fastFoodPDF[fastFoodPDF.country=='USA'].stars\n",
    "ratingCAN = fastFoodPDF[fastFoodPDF.country=='CAN'].stars\n",
    "\n",
    "test_stat = np.mean(ratingUSA) - np.mean(ratingCAN)\n",
    "\n",
    "#frequentist approach\n",
    "std_dev_diff = np.sqrt((np.std(ratingUSA)/len(ratingCAN))+(np.std(ratingUSA)/len(ratingCAN)))\n",
    "\n",
    "z_star = norm.ppf(0.995)\n",
    "\n",
    "\n",
    "moe = z_star * std_dev_diff\n",
    "conf_int = (test_stat-moe, test_stat+moe)\n",
    "print('Observed Diff in Means: ', test_stat)\n",
    "print('Margin of error: ', moe)\n",
    "print('99% confidence interval: ', conf_int)"
   ]
  },
  {
   "cell_type": "markdown",
   "metadata": {},
   "source": [
    "We are 99% confident that the average rating of fast food restaurants in the US is between 0.16 and 0.21 stars lower than in Canada. Since 0 does not fall within the confidence interval we can reject the null hypothesis and conclude that there is a statistically significant difference in average rating in US and Canada."
   ]
  },
  {
   "cell_type": "code",
   "execution_count": 13,
   "metadata": {},
   "outputs": [
    {
     "name": "stdout",
     "output_type": "stream",
     "text": [
      "z-score:  -18.96538288270543\n",
      "p-value:  3.296184668321536e-80\n"
     ]
    }
   ],
   "source": [
    "#two-sided, two-sample hypothesis test\n",
    "z, p_z = ztest(ratingUSA, ratingCAN, alternative = 'two-sided')\n",
    "\n",
    "print('z-score: ', z)\n",
    "print('p-value: ', p_z)"
   ]
  },
  {
   "cell_type": "markdown",
   "metadata": {},
   "source": [
    "Similarly, the p-value is very low, much smaller than the significance level of 0.01, so we can reject the null hypothesis.  We should keep in mind that the sample size is very large, which may be a reason we are seeing such a low p-value."
   ]
  },
  {
   "cell_type": "markdown",
   "metadata": {},
   "source": [
    "## Question 2: Is there a correlation between the word count of reviews and the number of helpful votes?"
   ]
  },
  {
   "cell_type": "markdown",
   "metadata": {},
   "source": [
    "HYPOTHESIS TEST: <br>\n",
    "Null hypothesis: There is no correlation between the word count of the reviews and the number of useful votes. <br>\n",
    "$H_{0}$: $\\rho$ = 0 <br>\n",
    "Alt. hypothesis: There is a correlation between the word count and the number of useful votes. <br>\n",
    "$H_{A}$: $\\rho$ $\\neq$ 0 <br>\n",
    "$\\alpha$ = 0.01 <br>"
   ]
  },
  {
   "cell_type": "code",
   "execution_count": 14,
   "metadata": {},
   "outputs": [
    {
     "name": "stderr",
     "output_type": "stream",
     "text": [
      "/Users/sineadoconnor/miniconda3/lib/python3.7/site-packages/seaborn/axisgrid.py:1847: UserWarning: JointGrid annotation is deprecated and will be removed in a future release.\n",
      "  warnings.warn(UserWarning(msg))\n"
     ]
    },
    {
     "data": {
      "text/plain": [
       "Text(25.0, 0.5, '# of Useful Votes')"
      ]
     },
     "execution_count": 14,
     "metadata": {},
     "output_type": "execute_result"
    },
    {
     "data": {
      "image/png": "[encoded data removed]",
      "text/plain": [
       "<Figure size 432x432 with 3 Axes>"
      ]
     },
     "metadata": {},
     "output_type": "display_data"
    }
   ],
   "source": [
    "sns.set()\n",
    "\n",
    "jplot = sns.jointplot('word_count', 'useful', data = fastFoodPDF, kind = 'reg', scatter_kws = {'alpha': 0.5}, line_kws = {'color':'red'})\n",
    "jplot.annotate(stats.pearsonr)\n",
    "plt.xlabel('Review Length (in words)')\n",
    "plt.ylabel('# of Useful Votes')"
   ]
  },
  {
   "cell_type": "code",
   "execution_count": 15,
   "metadata": {},
   "outputs": [
    {
     "name": "stdout",
     "output_type": "stream",
     "text": [
      "Observed correlation between review length and number of useful votes:  0.2324651742708063\n",
      "p-value:  0.0\n"
     ]
    }
   ],
   "source": [
    "obs_corr = np.corrcoef(fastFoodPDF['word_count'], fastFoodPDF['useful'])[0,1]\n",
    "print('Observed correlation between review length and number of useful votes: ', obs_corr)\n",
    "\n",
    "perm_reps = np.empty(100000)\n",
    "for i in range(100000):\n",
    "    perm_useful = np.random.permutation(fastFoodPDF['useful'])\n",
    "    perm_reps[i] = np.corrcoef(fastFoodPDF['word_count'], perm_useful)[0,1]\n",
    "\n",
    "p_value = sum(perm_reps >= obs_corr)/100000    \n",
    "print('p-value: ', p_value)"
   ]
  },
  {
   "cell_type": "markdown",
   "metadata": {},
   "source": [
    "\n",
    "Out of 100,000 permutations no permutation resulted in a correlation coefficient as extreme as the observed correlation of 0.232 so the p-value is very low. We can reject the null hypothesis, and conclude thatis a statistically significant correlation. However, the correlation of 0.232 is weak, and again the sample size is large (220,507)."
   ]
  },
  {
   "cell_type": "markdown",
   "metadata": {},
   "source": [
    "## Question 3: Is there a statistically significant difference  in the length of reviews by star-rating?"
   ]
  },
  {
   "cell_type": "markdown",
   "metadata": {},
   "source": [
    "HYPOTHESIS TEST: <br>\n",
    "Null hypothesis: The average word count of 1-star, 2-star, 3-star, and 4-star, and 5-star reviews are all equal. <br>\n",
    "$H_0$: $\\mu_{1star}$ = $\\mu_{2star}$ = $\\mu_{3star}$ = $\\mu_{4star}$ = $\\mu_{5star}$ <br>\n",
    "Alternate hypothesis: The average word length of at least one of the star ratings is not equal to the others. <br>\n",
    "$\\alpha$ = 0.01"
   ]
  },
  {
   "cell_type": "code",
   "execution_count": 16,
   "metadata": {},
   "outputs": [
    {
     "data": {
      "text/html": [
       "<div>\n",
       "<style scoped>\n",
       "    .dataframe tbody tr th:only-of-type {\n",
       "        vertical-align: middle;\n",
       "    }\n",
       "\n",
       "    .dataframe tbody tr th {\n",
       "        vertical-align: top;\n",
       "    }\n",
       "\n",
       "    .dataframe thead th {\n",
       "        text-align: right;\n",
       "    }\n",
       "</style>\n",
       "<table border=\"1\" class=\"dataframe\">\n",
       "  <thead>\n",
       "    <tr style=\"text-align: right;\">\n",
       "      <th></th>\n",
       "      <th>count</th>\n",
       "      <th>mean</th>\n",
       "      <th>std</th>\n",
       "      <th>min</th>\n",
       "      <th>25%</th>\n",
       "      <th>50%</th>\n",
       "      <th>75%</th>\n",
       "      <th>max</th>\n",
       "    </tr>\n",
       "    <tr>\n",
       "      <th>stars</th>\n",
       "      <th></th>\n",
       "      <th></th>\n",
       "      <th></th>\n",
       "      <th></th>\n",
       "      <th></th>\n",
       "      <th></th>\n",
       "      <th></th>\n",
       "      <th></th>\n",
       "    </tr>\n",
       "  </thead>\n",
       "  <tbody>\n",
       "    <tr>\n",
       "      <th>1.0</th>\n",
       "      <td>56093.0</td>\n",
       "      <td>101.593550</td>\n",
       "      <td>90.467986</td>\n",
       "      <td>0.0</td>\n",
       "      <td>43.0</td>\n",
       "      <td>75.0</td>\n",
       "      <td>128.0</td>\n",
       "      <td>994.0</td>\n",
       "    </tr>\n",
       "    <tr>\n",
       "      <th>2.0</th>\n",
       "      <td>24896.0</td>\n",
       "      <td>110.114557</td>\n",
       "      <td>90.533758</td>\n",
       "      <td>1.0</td>\n",
       "      <td>49.0</td>\n",
       "      <td>84.0</td>\n",
       "      <td>142.0</td>\n",
       "      <td>972.0</td>\n",
       "    </tr>\n",
       "    <tr>\n",
       "      <th>3.0</th>\n",
       "      <td>28701.0</td>\n",
       "      <td>109.027072</td>\n",
       "      <td>92.066418</td>\n",
       "      <td>1.0</td>\n",
       "      <td>47.0</td>\n",
       "      <td>83.0</td>\n",
       "      <td>142.0</td>\n",
       "      <td>993.0</td>\n",
       "    </tr>\n",
       "    <tr>\n",
       "      <th>4.0</th>\n",
       "      <td>45886.0</td>\n",
       "      <td>97.706969</td>\n",
       "      <td>84.294647</td>\n",
       "      <td>2.0</td>\n",
       "      <td>41.0</td>\n",
       "      <td>72.0</td>\n",
       "      <td>127.0</td>\n",
       "      <td>951.0</td>\n",
       "    </tr>\n",
       "    <tr>\n",
       "      <th>5.0</th>\n",
       "      <td>64931.0</td>\n",
       "      <td>75.002988</td>\n",
       "      <td>69.843840</td>\n",
       "      <td>1.0</td>\n",
       "      <td>32.0</td>\n",
       "      <td>53.0</td>\n",
       "      <td>92.0</td>\n",
       "      <td>974.0</td>\n",
       "    </tr>\n",
       "  </tbody>\n",
       "</table>\n",
       "</div>"
      ],
      "text/plain": [
       "         count        mean        std  min   25%   50%    75%    max\n",
       "stars                                                               \n",
       "1.0    56093.0  101.593550  90.467986  0.0  43.0  75.0  128.0  994.0\n",
       "2.0    24896.0  110.114557  90.533758  1.0  49.0  84.0  142.0  972.0\n",
       "3.0    28701.0  109.027072  92.066418  1.0  47.0  83.0  142.0  993.0\n",
       "4.0    45886.0   97.706969  84.294647  2.0  41.0  72.0  127.0  951.0\n",
       "5.0    64931.0   75.002988  69.843840  1.0  32.0  53.0   92.0  974.0"
      ]
     },
     "execution_count": 16,
     "metadata": {},
     "output_type": "execute_result"
    }
   ],
   "source": [
    "fastFoodPDF.groupby('stars')['word_count'].describe()"
   ]
  },
  {
   "cell_type": "code",
   "execution_count": null,
   "metadata": {},
   "outputs": [],
   "source": []
  },
  {
   "cell_type": "code",
   "execution_count": 17,
   "metadata": {},
   "outputs": [
    {
     "data": {
      "image/png": "[encoded data removed]",
      "text/plain": [
       "<Figure size 720x648 with 1 Axes>"
      ]
     },
     "metadata": {},
     "output_type": "display_data"
    }
   ],
   "source": [
    "plt.figure(figsize = (10,9))\n",
    "sns.boxplot(x = 'stars', y = 'word_count', data = fastFoodPDF)\n",
    "plt.savefig('../SavedFiles/lengthByStar')"
   ]
  },
  {
   "cell_type": "markdown",
   "metadata": {},
   "source": [
    "From the above box plots and summary statistics, we see that five-star reviews seem to have a lot less spread than the others, and that, overall, the reviews tend to  be shorter.  The two-star and 3-star reviews have the highest average review lengths, 110.11 and 109.02, respectively.  It makes sense that 2-star and 3-star reviews tend to be longer because there may be more to explain if did not have a great time at the restaurant or had a mixed review."
   ]
  },
  {
   "cell_type": "code",
   "execution_count": 18,
   "metadata": {},
   "outputs": [
    {
     "data": {
      "text/plain": [
       "F_onewayResult(statistic=1425.8834957820923, pvalue=0.0)"
      ]
     },
     "execution_count": 18,
     "metadata": {},
     "output_type": "execute_result"
    }
   ],
   "source": [
    "#ANOVA\n",
    "stats.f_oneway(fastFoodPDF[fastFoodPDF.stars == 1]['word_count'], \n",
    "             fastFoodPDF[fastFoodPDF.stars == 2]['word_count'],\n",
    "             fastFoodPDF[fastFoodPDF.stars == 3]['word_count'],\n",
    "              fastFoodPDF[fastFoodPDF.stars == 4]['word_count'],\n",
    "              fastFoodPDF[fastFoodPDF.stars == 5]['word_count'])"
   ]
  },
  {
   "cell_type": "markdown",
   "metadata": {},
   "source": [
    "Since the f-statistic is much higher than one, and the p-value is very close to 0, we can reject the null hypothesis and conclude that there is a statistically significant difference in at least one of the star-ratings."
   ]
  },
  {
   "cell_type": "markdown",
   "metadata": {},
   "source": [
    "## Question 4: Is the proportion of people who rate Subway positively higher than the proportion of people who give McDonald's positive reviews?\n",
    "For this we will consider positive reviews to be 4- and 5-star reviews."
   ]
  },
  {
   "cell_type": "code",
   "execution_count": 19,
   "metadata": {},
   "outputs": [
    {
     "data": {
      "text/plain": [
       "name\n",
       "McDonald's                14862\n",
       "Chipotle Mexican Grill     9586\n",
       "In-N-Out Burger            6919\n",
       "Subway                     6178\n",
       "Taco Bell                  5193\n",
       "Name: stars, dtype: int64"
      ]
     },
     "execution_count": 19,
     "metadata": {},
     "output_type": "execute_result"
    }
   ],
   "source": [
    "#find the most reviewed fast food restaurant/chain in the data set\n",
    "by_rest = fastFoodPDF.groupby('name')['stars'].count()\n",
    "by_rest.sort_values(ascending = False).head()"
   ]
  },
  {
   "cell_type": "markdown",
   "metadata": {},
   "source": [
    "\n",
    "Null hypothesis: There is not a difference in proportion of positive reviews of McDonald's and Subway. <br>\n",
    "$H_{0}$: $p_{m}$ = $p_{s}$ <br>\n",
    "Alternate hypothesis: There is a statistically significant difference in the proportion of positive reviews of the two restaurants. <br>\n",
    "$H_{A}$: $p_{m}$  < $p_{s}$ <br>\n",
    "$\\alpha$ = 0.01"
   ]
  },
  {
   "cell_type": "code",
   "execution_count": 20,
   "metadata": {},
   "outputs": [],
   "source": [
    "def is_positive(stars):\n",
    "    if stars in [4,5]:\n",
    "        pos = 1\n",
    "    else:\n",
    "        pos = 0\n",
    "    return pos   "
   ]
  },
  {
   "cell_type": "code",
   "execution_count": 21,
   "metadata": {},
   "outputs": [],
   "source": [
    "fastFoodPDF['pos'] = fastFoodPDF['stars'].apply(is_positive)"
   ]
  },
  {
   "cell_type": "code",
   "execution_count": 22,
   "metadata": {},
   "outputs": [],
   "source": [
    "McD = fastFoodPDF[fastFoodPDF.name == 'McDonald\\'s']\n",
    "Sub = fastFoodPDF[fastFoodPDF.name == 'Subway']"
   ]
  },
  {
   "cell_type": "code",
   "execution_count": 23,
   "metadata": {},
   "outputs": [
    {
     "data": {
      "image/png": "[encoded data removed]",
      "text/plain": [
       "<Figure size 432x288 with 2 Axes>"
      ]
     },
     "metadata": {},
     "output_type": "display_data"
    }
   ],
   "source": [
    "fig = plt.figure()\n",
    "\n",
    "fig.add_subplot(1,2,1)\n",
    "plt.axis('equal')\n",
    "plt.pie(McD['pos'].value_counts(), colors = ['red','gold'], labels = ['negative','positive'], autopct='%1.1f%%', radius=3)\n",
    "plt.subplots_adjust(wspace=5)\n",
    "plt.title('Proportion of Positive Reviews of McDonald\\'s')\n",
    "\n",
    "\n",
    "fig.add_subplot(1,2,2)\n",
    "plt.axis('equal')\n",
    "plt.pie(Sub['pos'].value_counts(), colors = ['red','gold'], labels = ['negative', 'positive'], autopct='%1.1f%%', radius=3)\n",
    "plt.title('Proportion of Positive Reviews of Subway')\n",
    "\n",
    "plt.savefig('../SavedFiles/McDSubPie')"
   ]
  },
  {
   "cell_type": "markdown",
   "metadata": {},
   "source": [
    "From the above pie charts that the proportion of positive reviews was 2 times higher than that of McDonald's.  I am a bit surprised to see such a big difference because McDonald's is so popular, so I would expect to see more than 17.9% positive reviews.  However, it makes sense now that McDonald's appeared in the word clous for 1-star reviews."
   ]
  },
  {
   "cell_type": "code",
   "execution_count": 24,
   "metadata": {},
   "outputs": [],
   "source": [
    "p_mcd_pos = sum(McD.pos)/len(McD.pos)\n",
    "p_sub_pos = sum(Sub.pos)/len(Sub.pos)"
   ]
  },
  {
   "cell_type": "code",
   "execution_count": 25,
   "metadata": {},
   "outputs": [
    {
     "name": "stdout",
     "output_type": "stream",
     "text": [
      "Frequentist Approach:\n",
      "Observed difference:  -0.1933906976012704\n",
      "margin of error:  0.007542310811020999\n",
      "99% confindence interval:  (-0.2009330084122914, -0.1858483867902494)\n",
      "p-value:  4.544553927415674e-199\n"
     ]
    }
   ],
   "source": [
    "print('Frequentist Approach:')\n",
    "pooled_p = (sum(McD.pos)+sum(Sub.pos))/(len(McD.pos)+len(Sub.pos))\n",
    "\n",
    "diff_obs = p_mcd_pos - p_sub_pos\n",
    "print('Observed difference: ', diff_obs)\n",
    "\n",
    "z_star = norm.ppf(0.995)\n",
    "\n",
    "moe = z_star * np.sqrt((pooled_p)*(1-pooled_p)/(len(McD.pos)+len(Sub.pos)))\n",
    "print('margin of error: ', moe)\n",
    "\n",
    "conf_int = (diff_obs - moe,  diff_obs + moe)\n",
    "print('99% confindence interval: ', conf_int)\n",
    "\n",
    "count = [sum(McD.pos), sum(Sub.pos)]\n",
    "nobs = [len(McD.pos), len(Sub.pos)]\n",
    "z, p_z = proportions_ztest(count, nobs, alternative = 'smaller')\n",
    "\n",
    "\n",
    "print('p-value: ', p_z)\n",
    "\n"
   ]
  },
  {
   "cell_type": "markdown",
   "metadata": {},
   "source": [
    "From the very small p-value, we can conclude that there is a statistically significant difference in proportion of positive (4- and 5-star) reviews between McDonald's and Subway."
   ]
  }
 ],
 "metadata": {
  "kernelspec": {
   "display_name": "Python 3",
   "language": "python",
   "name": "python3"
  },
  "language_info": {
   "codemirror_mode": {
    "name": "ipython",
    "version": 3
   },
   "file_extension": ".py",
   "mimetype": "text/x-python",
   "name": "python",
   "nbconvert_exporter": "python",
   "pygments_lexer": "ipython3",
   "version": "3.7.1"
  }
 },
 "nbformat": 4,
 "nbformat_minor": 2
}
